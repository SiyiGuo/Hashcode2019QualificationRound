{
 "cells": [
  {
   "cell_type": "code",
   "execution_count": 565,
   "metadata": {},
   "outputs": [],
   "source": [
    "import os\n",
    "import random\n",
    "%matplotlib inline"
   ]
  },
  {
   "cell_type": "code",
   "execution_count": 566,
   "metadata": {},
   "outputs": [],
   "source": [
    "class Photo(object):\n",
    "    def __init__(self, orientation, tags, index):\n",
    "        self.orientation = orientation\n",
    "        self.tags = tags\n",
    "        self.index = index"
   ]
  },
  {
   "cell_type": "code",
   "execution_count": 567,
   "metadata": {},
   "outputs": [],
   "source": [
    "class Slide(object):\n",
    "    def __init__(self, tags, index):\n",
    "        #index: list\n",
    "        self.tags = tags\n",
    "        self.index = index\n",
    "    \n",
    "    def __str__(self):\n",
    "        return self.index"
   ]
  },
  {
   "cell_type": "code",
   "execution_count": 568,
   "metadata": {},
   "outputs": [],
   "source": [
    "\"\"\"\n",
    "eg: a_example.in\n",
    "\"\"\"\n",
    "def read_input(filename):\n",
    "    # all input dataset are put under the input_data folder\n",
    "    lines = open(os.path.join(\"input_data\",filename)).readlines()\n",
    "    num_input = int(lines[0].strip())\n",
    "    v_photos = []\n",
    "    h_photos = []\n",
    "    for index, line in enumerate(lines[1:]):\n",
    "        line = line.strip().split(\" \")\n",
    "        orientation = line[0]\n",
    "        tags = set(line[2:])\n",
    "        photo = Photo(orientation, tags, index)\n",
    "        if orientation == \"H\":\n",
    "            h_photos.append(photo)\n",
    "        else:\n",
    "            v_photos.append(photo)\n",
    "    \n",
    "    return {\"v_photos\":v_photos, \"h_photos\":h_photos}\n",
    "        \n",
    "        "
   ]
  },
  {
   "cell_type": "code",
   "execution_count": 569,
   "metadata": {},
   "outputs": [],
   "source": [
    "def write_output(output_file_name, result):\n",
    "    with open(os.path.join(\"output_data\", output_file_name), 'w') as f:\n",
    "        for line in result:\n",
    "            f.write(line+\"\\n\")"
   ]
  },
  {
   "cell_type": "code",
   "execution_count": 570,
   "metadata": {},
   "outputs": [],
   "source": [
    "def run(filename):\n",
    "    print(\"run\")\n",
    "    photos = read_input(filename)\n",
    "    print(\"get photos\")\n",
    "    solution = Solution(photos[\"v_photos\"], photos[\"h_photos\"])\n",
    "    print(\"getting result\")\n",
    "    result = solution.get_result()\n",
    "    write_output(\"output\"+filename, result)"
   ]
  },
  {
   "cell_type": "code",
   "execution_count": 571,
   "metadata": {},
   "outputs": [
    {
     "name": "stdout",
     "output_type": "stream",
     "text": [
      "['a_example.txt', 'b_lovely_landscapes.txt', 'c_memorable_moments.txt', 'd_pet_pictures.txt', 'e_shiny_selfies.txt']\n"
     ]
    }
   ],
   "source": [
    "input_files = os.listdir(\"input_data\")\n",
    "print(input_files)"
   ]
  },
  {
   "cell_type": "markdown",
   "metadata": {},
   "source": [
    "#Write the solution function here"
   ]
  },
  {
   "cell_type": "code",
   "execution_count": 572,
   "metadata": {},
   "outputs": [],
   "source": [
    "class Solution(object):\n",
    "    def __init__(self, v_photos, h_photos):\n",
    "        self.v_photos = set(v_photos)\n",
    "        self.h_photos = set(h_photos)\n",
    "        self.total_slides = 0\n",
    "        \n",
    "    def combine_2_slide(self, p1, p2=None):\n",
    "        if p2:\n",
    "            if p1.orientation == p2.orientation and p1.orientation == \"V\":\n",
    "                return Slide(p1.tags.union(p2.tags), \"%s %s\"%(p1.index, p2.index))\n",
    "            else:\n",
    "                raise ValueError(\"p1, p2 should both vertical\", p1.index, p2.index)\n",
    "        else:\n",
    "            return Slide(p1.tags, str(p1.index))\n",
    "    \n",
    "    def get_vertical_score(self, set1, set2):\n",
    "        return len(set1) + len(set2) - len(set1.union(set2))\n",
    "    \n",
    "    def get_hashcode_score(self, set1, set2):\n",
    "        intersect = set1.intersection(set2)\n",
    "        intersectscore = len(intersect)\n",
    "        p1score = len(set1) - len(intersect)\n",
    "        p2score = len(set2) - len(intersect)\n",
    "        return min(intersectscore, p1score, p2score)\n",
    "    \n",
    "    def get_hashcode_score2(self, set1, set2):\n",
    "        intersect = set1.intersection(set2)\n",
    "        intersectscore = len(intersect)\n",
    "        p1score = len(set1) - len(intersect)\n",
    "        p2score = len(set2) - len(intersect)\n",
    "        return p1score + p2score - 2*intersectscore\n",
    "        \n",
    "    \n",
    "    def get_vertical_slides(self, slides_dict):\n",
    "        v_photos = self.v_photos\n",
    "        \n",
    "        slides = []\n",
    "        \n",
    "        print(\"vertical photos\")\n",
    "        while len(v_photos) != 0:\n",
    "            max_score = -1\n",
    "            max_p = -1\n",
    "            current_p = v_photos.pop()\n",
    "            \n",
    "#             max_p = random.choice(list(v_photos))\n",
    "            for p in v_photos:\n",
    "                score = self.get_vertical_score(current_p.tags, p.tags)\n",
    "                if score > max_score:\n",
    "                    max_score, max_p = score, p\n",
    "            \n",
    "            combined_slide = self.combine_2_slide(current_p, max_p)\n",
    "            self.total_slides += 1\n",
    "            if len(combined_slide.tags) in slides_dict:\n",
    "                slides_dict[len(combined_slide.tags)].append(combined_slide)\n",
    "            else:\n",
    "                slides_dict[len(combined_slide.tags)] = [combined_slide]\n",
    "                \n",
    "            v_photos.remove(max_p)\n",
    "            print(\"%s v photos left\"%len(v_photos), end=\"\\r\")\n",
    "        \n",
    "        return slides\n",
    "    \n",
    "    def get_slides(self):\n",
    "        slides = []\n",
    "        \n",
    "        slides_dict = {}\n",
    "        \n",
    "        # combine all vertical photos\n",
    "        print(\"get vertical\")\n",
    "        slides += self.get_vertical_slides(slides_dict)\n",
    "        \n",
    "        # put the rest of horizontal photo into slides\n",
    "        print(\"get horizontal\")\n",
    "        for p in self.h_photos:\n",
    "            combined_slide = self.combine_2_slide(p)\n",
    "            self.total_slides += 1\n",
    "            if len(combined_slide.tags) in slides_dict:\n",
    "                slides_dict[len(combined_slide.tags)].append(combined_slide)\n",
    "            else:\n",
    "                slides_dict[len(combined_slide.tags)] = [combined_slide]\n",
    "        return slides_dict\n",
    "    \n",
    "    def get_start_slide(self, slides):\n",
    "        smalles_key = min(slides.keys())\n",
    "        return random.choice(slides[smalles_key]), smalles_key\n",
    "    \n",
    "    def arrange_slides(self, slides):\n",
    "        print(\"start arrange\")\n",
    "        total_score = 0\n",
    "        \n",
    "        # get start tag\n",
    "        start_slide, key = self.get_start_slide(slides) #random start\n",
    "        new_slides = [start_slide]\n",
    "        slides[key].remove(start_slide)\n",
    "        \n",
    "        \n",
    "        print(\"total slides\", self.total_slides)\n",
    "        while len(new_slides) != self.total_slides:\n",
    "            current_c = new_slides[-1]\n",
    "            \n",
    "            # get level list\n",
    "            base_level = len(current_c.tags)\n",
    "            current_level = [len(current_c.tags)]\n",
    "            for i in range(1, max(slides.keys()) - base_level + 1):\n",
    "                higher_level = base_level + i\n",
    "                lower_level = base_level - i\n",
    "                if (higher_level in slides):\n",
    "                    current_level.append(higher_level)\n",
    "                \n",
    "                if (lower_level in slides):\n",
    "                     current_level.append(lower_level)\n",
    "                        \n",
    "            while len(current_level) != 0:\n",
    "                level = current_level.pop(0)\n",
    "                current_level_list = slides[level]\n",
    "                \n",
    "                print(\"current slides %s %s level list: %s for slide: %s \"%(len(new_slides), level, len(current_level_list), current_c.index), end=\"\\r\")\n",
    "                \n",
    "                if len(current_level_list) == 0:\n",
    "                    continue\n",
    "\n",
    "                min_score, max_slide = 999999999999, -1\n",
    "                escpae = False\n",
    "                \n",
    "                for s in current_level_list:\n",
    "                    score = self.get_hashcode_score2(current_c.tags, s.tags)\n",
    "                    if score == level - len(current_c.tags):\n",
    "                        min_score, max_slide = score, s\n",
    "                        escpae = True\n",
    "                        break\n",
    "\n",
    "                    if score < min_score:\n",
    "                        min_score, max_slide = score, s\n",
    "                        \n",
    "                if max_slide != -1:       \n",
    "                    current_level_list.remove(max_slide)\n",
    "                    new_slides.append(max_slide)\n",
    "                    total_score += self.get_hashcode_score(new_slides[-2].tags, new_slides[-1].tags)\n",
    "                    break\n",
    "            \n",
    "                \n",
    "            \n",
    "        print(\"total_score\", total_score)\n",
    "        return new_slides\n",
    "\n",
    "    def get_result(self):\n",
    "        # step 1: combine all vertical photos\n",
    "        slides = self.get_slides()\n",
    "        print(\"get slides\")\n",
    "        # step2: rearrange slides to get optimal score\n",
    "        slides = self.arrange_slides(slides)\n",
    "        \n",
    "        #steps 3 write to file\n",
    "        result = [str(len(slides))]\n",
    "        for s in slides:\n",
    "            result.append(str(s))\n",
    "        return result"
   ]
  },
  {
   "cell_type": "code",
   "execution_count": null,
   "metadata": {},
   "outputs": [
    {
     "name": "stdout",
     "output_type": "stream",
     "text": [
      "run\n",
      "get photos\n",
      "getting result\n",
      "get vertical\n",
      "vertical photos\n",
      "get horizontal\n",
      "get slides\n",
      "start arrange\n",
      "total slides 80000\n"
     ]
    }
   ],
   "source": [
    "run(input_files[1])"
   ]
  },
  {
   "cell_type": "markdown",
   "metadata": {},
   "source": [
    "#Solution Finish"
   ]
  },
  {
   "cell_type": "code",
   "execution_count": 573,
   "metadata": {},
   "outputs": [
    {
     "name": "stdout",
     "output_type": "stream",
     "text": [
      "a_example.txt\n",
      "run\n",
      "get photos\n",
      "getting result\n",
      "get vertical\n",
      "vertical photos\n",
      "get horizontal\n",
      "get slides\n",
      "start arrange\n",
      "total slides 3\n",
      "total_score 1\n",
      "b_lovely_landscapes.txt\n",
      "run\n",
      "get photos\n",
      "getting result\n",
      "get vertical\n",
      "vertical photos\n",
      "get horizontal\n",
      "get slides\n",
      "start arrange\n",
      "total slides 80000\n"
     ]
    },
    {
     "ename": "KeyboardInterrupt",
     "evalue": "",
     "output_type": "error",
     "traceback": [
      "\u001b[1;31m---------------------------------------------------------------------------\u001b[0m",
      "\u001b[1;31mKeyboardInterrupt\u001b[0m                         Traceback (most recent call last)",
      "\u001b[1;32m<ipython-input-573-625c616c8d30>\u001b[0m in \u001b[0;36m<module>\u001b[1;34m\u001b[0m\n\u001b[0;32m      1\u001b[0m \u001b[1;32mfor\u001b[0m \u001b[0mf\u001b[0m \u001b[1;32min\u001b[0m \u001b[0minput_files\u001b[0m\u001b[1;33m:\u001b[0m\u001b[1;33m\u001b[0m\u001b[1;33m\u001b[0m\u001b[0m\n\u001b[0;32m      2\u001b[0m     \u001b[0mprint\u001b[0m\u001b[1;33m(\u001b[0m\u001b[0mf\u001b[0m\u001b[1;33m)\u001b[0m\u001b[1;33m\u001b[0m\u001b[1;33m\u001b[0m\u001b[0m\n\u001b[1;32m----> 3\u001b[1;33m     \u001b[0mrun\u001b[0m\u001b[1;33m(\u001b[0m\u001b[0mf\u001b[0m\u001b[1;33m)\u001b[0m\u001b[1;33m\u001b[0m\u001b[1;33m\u001b[0m\u001b[0m\n\u001b[0m",
      "\u001b[1;32m<ipython-input-570-190cf370ee65>\u001b[0m in \u001b[0;36mrun\u001b[1;34m(filename)\u001b[0m\n\u001b[0;32m      5\u001b[0m     \u001b[0msolution\u001b[0m \u001b[1;33m=\u001b[0m \u001b[0mSolution\u001b[0m\u001b[1;33m(\u001b[0m\u001b[0mphotos\u001b[0m\u001b[1;33m[\u001b[0m\u001b[1;34m\"v_photos\"\u001b[0m\u001b[1;33m]\u001b[0m\u001b[1;33m,\u001b[0m \u001b[0mphotos\u001b[0m\u001b[1;33m[\u001b[0m\u001b[1;34m\"h_photos\"\u001b[0m\u001b[1;33m]\u001b[0m\u001b[1;33m)\u001b[0m\u001b[1;33m\u001b[0m\u001b[1;33m\u001b[0m\u001b[0m\n\u001b[0;32m      6\u001b[0m     \u001b[0mprint\u001b[0m\u001b[1;33m(\u001b[0m\u001b[1;34m\"getting result\"\u001b[0m\u001b[1;33m)\u001b[0m\u001b[1;33m\u001b[0m\u001b[1;33m\u001b[0m\u001b[0m\n\u001b[1;32m----> 7\u001b[1;33m     \u001b[0mresult\u001b[0m \u001b[1;33m=\u001b[0m \u001b[0msolution\u001b[0m\u001b[1;33m.\u001b[0m\u001b[0mget_result\u001b[0m\u001b[1;33m(\u001b[0m\u001b[1;33m)\u001b[0m\u001b[1;33m\u001b[0m\u001b[1;33m\u001b[0m\u001b[0m\n\u001b[0m\u001b[0;32m      8\u001b[0m     \u001b[0mwrite_output\u001b[0m\u001b[1;33m(\u001b[0m\u001b[1;34m\"output\"\u001b[0m\u001b[1;33m+\u001b[0m\u001b[0mfilename\u001b[0m\u001b[1;33m,\u001b[0m \u001b[0mresult\u001b[0m\u001b[1;33m)\u001b[0m\u001b[1;33m\u001b[0m\u001b[1;33m\u001b[0m\u001b[0m\n",
      "\u001b[1;32m<ipython-input-572-7f4e8050847f>\u001b[0m in \u001b[0;36mget_result\u001b[1;34m(self)\u001b[0m\n\u001b[0;32m    149\u001b[0m         \u001b[0mprint\u001b[0m\u001b[1;33m(\u001b[0m\u001b[1;34m\"get slides\"\u001b[0m\u001b[1;33m)\u001b[0m\u001b[1;33m\u001b[0m\u001b[1;33m\u001b[0m\u001b[0m\n\u001b[0;32m    150\u001b[0m         \u001b[1;31m# step2: rearrange slides to get optimal score\u001b[0m\u001b[1;33m\u001b[0m\u001b[1;33m\u001b[0m\u001b[1;33m\u001b[0m\u001b[0m\n\u001b[1;32m--> 151\u001b[1;33m         \u001b[0mslides\u001b[0m \u001b[1;33m=\u001b[0m \u001b[0mself\u001b[0m\u001b[1;33m.\u001b[0m\u001b[0marrange_slides\u001b[0m\u001b[1;33m(\u001b[0m\u001b[0mslides\u001b[0m\u001b[1;33m)\u001b[0m\u001b[1;33m\u001b[0m\u001b[1;33m\u001b[0m\u001b[0m\n\u001b[0m\u001b[0;32m    152\u001b[0m \u001b[1;33m\u001b[0m\u001b[0m\n\u001b[0;32m    153\u001b[0m         \u001b[1;31m#steps 3 write to file\u001b[0m\u001b[1;33m\u001b[0m\u001b[1;33m\u001b[0m\u001b[1;33m\u001b[0m\u001b[0m\n",
      "\u001b[1;32m<ipython-input-572-7f4e8050847f>\u001b[0m in \u001b[0;36marrange_slides\u001b[1;34m(self, slides)\u001b[0m\n\u001b[0;32m    124\u001b[0m \u001b[1;33m\u001b[0m\u001b[0m\n\u001b[0;32m    125\u001b[0m                 \u001b[1;32mfor\u001b[0m \u001b[0ms\u001b[0m \u001b[1;32min\u001b[0m \u001b[0mcurrent_level_list\u001b[0m\u001b[1;33m:\u001b[0m\u001b[1;33m\u001b[0m\u001b[1;33m\u001b[0m\u001b[0m\n\u001b[1;32m--> 126\u001b[1;33m                     \u001b[0mscore\u001b[0m \u001b[1;33m=\u001b[0m \u001b[0mself\u001b[0m\u001b[1;33m.\u001b[0m\u001b[0mget_hashcode_score2\u001b[0m\u001b[1;33m(\u001b[0m\u001b[0mcurrent_c\u001b[0m\u001b[1;33m.\u001b[0m\u001b[0mtags\u001b[0m\u001b[1;33m,\u001b[0m \u001b[0ms\u001b[0m\u001b[1;33m.\u001b[0m\u001b[0mtags\u001b[0m\u001b[1;33m)\u001b[0m\u001b[1;33m\u001b[0m\u001b[1;33m\u001b[0m\u001b[0m\n\u001b[0m\u001b[0;32m    127\u001b[0m                     \u001b[1;32mif\u001b[0m \u001b[0mscore\u001b[0m \u001b[1;33m==\u001b[0m \u001b[0mlevel\u001b[0m \u001b[1;33m-\u001b[0m \u001b[0mlen\u001b[0m\u001b[1;33m(\u001b[0m\u001b[0mcurrent_c\u001b[0m\u001b[1;33m.\u001b[0m\u001b[0mtags\u001b[0m\u001b[1;33m)\u001b[0m\u001b[1;33m:\u001b[0m\u001b[1;33m\u001b[0m\u001b[1;33m\u001b[0m\u001b[0m\n\u001b[0;32m    128\u001b[0m                         \u001b[0mmin_score\u001b[0m\u001b[1;33m,\u001b[0m \u001b[0mmax_slide\u001b[0m \u001b[1;33m=\u001b[0m \u001b[0mscore\u001b[0m\u001b[1;33m,\u001b[0m \u001b[0ms\u001b[0m\u001b[1;33m\u001b[0m\u001b[1;33m\u001b[0m\u001b[0m\n",
      "\u001b[1;32m<ipython-input-572-7f4e8050847f>\u001b[0m in \u001b[0;36mget_hashcode_score2\u001b[1;34m(self, set1, set2)\u001b[0m\n\u001b[0;32m     28\u001b[0m         \u001b[0mintersectscore\u001b[0m \u001b[1;33m=\u001b[0m \u001b[0mlen\u001b[0m\u001b[1;33m(\u001b[0m\u001b[0mintersect\u001b[0m\u001b[1;33m)\u001b[0m\u001b[1;33m\u001b[0m\u001b[1;33m\u001b[0m\u001b[0m\n\u001b[0;32m     29\u001b[0m         \u001b[0mp1score\u001b[0m \u001b[1;33m=\u001b[0m \u001b[0mlen\u001b[0m\u001b[1;33m(\u001b[0m\u001b[0mset1\u001b[0m\u001b[1;33m)\u001b[0m \u001b[1;33m-\u001b[0m \u001b[0mlen\u001b[0m\u001b[1;33m(\u001b[0m\u001b[0mintersect\u001b[0m\u001b[1;33m)\u001b[0m\u001b[1;33m\u001b[0m\u001b[1;33m\u001b[0m\u001b[0m\n\u001b[1;32m---> 30\u001b[1;33m         \u001b[0mp2score\u001b[0m \u001b[1;33m=\u001b[0m \u001b[0mlen\u001b[0m\u001b[1;33m(\u001b[0m\u001b[0mset2\u001b[0m\u001b[1;33m)\u001b[0m \u001b[1;33m-\u001b[0m \u001b[0mlen\u001b[0m\u001b[1;33m(\u001b[0m\u001b[0mintersect\u001b[0m\u001b[1;33m)\u001b[0m\u001b[1;33m\u001b[0m\u001b[1;33m\u001b[0m\u001b[0m\n\u001b[0m\u001b[0;32m     31\u001b[0m         \u001b[1;32mreturn\u001b[0m \u001b[0mp1score\u001b[0m \u001b[1;33m+\u001b[0m \u001b[0mp2score\u001b[0m \u001b[1;33m-\u001b[0m \u001b[1;36m2\u001b[0m\u001b[1;33m*\u001b[0m\u001b[0mintersectscore\u001b[0m\u001b[1;33m\u001b[0m\u001b[1;33m\u001b[0m\u001b[0m\n\u001b[0;32m     32\u001b[0m \u001b[1;33m\u001b[0m\u001b[0m\n",
      "\u001b[1;31mKeyboardInterrupt\u001b[0m: "
     ]
    }
   ],
   "source": [
    "for f in input_files:\n",
    "    print(f)\n",
    "    run(f)"
   ]
  }
 ],
 "metadata": {
  "kernelspec": {
   "display_name": "Python 3",
   "language": "python",
   "name": "python3"
  },
  "language_info": {
   "codemirror_mode": {
    "name": "ipython",
    "version": 3
   },
   "file_extension": ".py",
   "mimetype": "text/x-python",
   "name": "python",
   "nbconvert_exporter": "python",
   "pygments_lexer": "ipython3",
   "version": "3.7.1"
  }
 },
 "nbformat": 4,
 "nbformat_minor": 2
}
