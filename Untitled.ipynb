{
 "cells": [
  {
   "cell_type": "code",
   "execution_count": 347,
   "metadata": {},
   "outputs": [],
   "source": [
    "import matplotlib.pyplot as plt\n",
    "import numpy as np\n",
    "import os\n",
    "import random\n",
    "%matplotlib inline"
   ]
  },
  {
   "cell_type": "code",
   "execution_count": 348,
   "metadata": {},
   "outputs": [],
   "source": [
    "class Photo(object):\n",
    "    def __init__(self, orientation, tags, index):\n",
    "        self.orientation = orientation\n",
    "        self.tags = tags\n",
    "        self.index = index"
   ]
  },
  {
   "cell_type": "code",
   "execution_count": 349,
   "metadata": {},
   "outputs": [],
   "source": [
    "class Slide(object):\n",
    "    def __init__(self, tags, index):\n",
    "        #index: list\n",
    "        self.tags = tags\n",
    "        self.index = index\n",
    "    \n",
    "    def __str__(self):\n",
    "        return self.index"
   ]
  },
  {
   "cell_type": "code",
   "execution_count": 350,
   "metadata": {},
   "outputs": [],
   "source": [
    "\"\"\"\n",
    "eg: a_example.in\n",
    "\"\"\"\n",
    "def read_input(filename):\n",
    "    # all input dataset are put under the input_data folder\n",
    "    lines = open(os.path.join(\"input_data\",filename)).readlines()\n",
    "    num_input = int(lines[0].strip())\n",
    "    v_photos = []\n",
    "    h_photos = []\n",
    "    for index, line in enumerate(lines[1:]):\n",
    "        line = line.strip().split(\" \")\n",
    "        orientation = line[0]\n",
    "        tags = set(line[2:])\n",
    "        photo = Photo(orientation, tags, index)\n",
    "        if orientation == \"H\":\n",
    "            h_photos.append(photo)\n",
    "        else:\n",
    "            v_photos.append(photo)\n",
    "    \n",
    "    return {\"v_photos\":v_photos, \"h_photos\":h_photos}\n",
    "        \n",
    "        "
   ]
  },
  {
   "cell_type": "code",
   "execution_count": 351,
   "metadata": {},
   "outputs": [],
   "source": [
    "def write_output(output_file_name, result):\n",
    "    with open(os.path.join(\"output_data\", output_file_name), 'w') as f:\n",
    "        for line in result:\n",
    "            f.write(line+\"\\n\")"
   ]
  },
  {
   "cell_type": "code",
   "execution_count": 352,
   "metadata": {},
   "outputs": [],
   "source": [
    "def run(filename):\n",
    "    photos = read_input(filename)\n",
    "    solution = Solution(photos[\"v_photos\"], photos[\"h_photos\"])\n",
    "    result = solution.get_result()\n",
    "    write_output(\"output\"+filename, result)"
   ]
  },
  {
   "cell_type": "code",
   "execution_count": 353,
   "metadata": {},
   "outputs": [
    {
     "name": "stdout",
     "output_type": "stream",
     "text": [
      "['a_example.txt', 'b_lovely_landscapes.txt', 'c_memorable_moments.txt', 'd_pet_pictures.txt', 'e_shiny_selfies.txt']\n"
     ]
    }
   ],
   "source": [
    "input_files = os.listdir(\"input_data\")\n",
    "print(input_files)"
   ]
  },
  {
   "cell_type": "markdown",
   "metadata": {},
   "source": [
    "#Write the solution function here"
   ]
  },
  {
   "cell_type": "code",
   "execution_count": 359,
   "metadata": {},
   "outputs": [],
   "source": [
    "class Solution(object):\n",
    "    def __init__(self, v_photos, h_photos):\n",
    "        self.v_photos = set(v_photos)\n",
    "        self.h_photos = set(h_photos)\n",
    "        \n",
    "    def combine_2_slide(self, p1, p2=None):\n",
    "        if p2:\n",
    "            if p1.orientation == p2.orientation and p1.orientation == \"V\":\n",
    "                return Slide(p1.tags.union(p2.tags), \"%s %s\"%(p1.index, p2.index))\n",
    "            else:\n",
    "                raise ValueError(\"p1, p2 should both vertical\", p1.index, p2.index)\n",
    "        else:\n",
    "            return Slide(p1.tags, str(p1.index))\n",
    "    \n",
    "    def get_vertical_score(self, set1, set2):\n",
    "        return len(set1) + len(set2) - len(set1.union(set2))\n",
    "    \n",
    "    def get_hashcode_score(self, set1, set2):\n",
    "        intersect = set1.intersection(set2)\n",
    "        intersectscore = len(intersect)\n",
    "        p1score = len(set1) - len(intersect)\n",
    "        p2score = len(set2) - len(intersect)\n",
    "        print(min(intersectscore, p1score, p2score))\n",
    "        return min(intersectscore, p1score, p2score)\n",
    "        \n",
    "    \n",
    "    def get_vertical_slides(self):\n",
    "        v_photos = self.v_photos\n",
    "        \n",
    "        slides = []\n",
    "        \n",
    "        while len(v_photos) != 0:\n",
    "            max_score = -1\n",
    "            max_p = -1\n",
    "            current_p = v_photos.pop()\n",
    "            for p in v_photos:\n",
    "                score = self.get_vertical_score(current_p.tags, p.tags)\n",
    "                if score > max_score:\n",
    "                    max_score, max_p = score, p\n",
    "            slides.append(self.combine_2_slide(current_p, p))\n",
    "            v_photos.remove(p)\n",
    "        \n",
    "        return slides\n",
    "    \n",
    "    def get_slides(self):\n",
    "        slides = []\n",
    "        \n",
    "        # combine all vertical photos\n",
    "        slides += self.get_vertical_slides()\n",
    "        \n",
    "        # put the rest of horizontal photo into slides\n",
    "        for p in self.h_photos:\n",
    "            slides.append(self.combine_2_slide(p))\n",
    "        return slides\n",
    "    \n",
    "    def arrange_slides(self, slides):\n",
    "        return slides\n",
    "    \n",
    "    def get_result(self):\n",
    "        # step 1: combine all vertical photos\n",
    "        slides = self.get_slides()\n",
    "        \n",
    "        # step2: rearrange slides to get optimal score\n",
    "        slides = self.arrange_slides(slides)\n",
    "        random.shuffle(slides)\n",
    "        \n",
    "        #steps 3 write to file\n",
    "        result = [str(len(slides))]\n",
    "        for s in slides:\n",
    "            result.append(str(s))\n",
    "        return result"
   ]
  },
  {
   "cell_type": "markdown",
   "metadata": {},
   "source": [
    "#Solution Finish"
   ]
  },
  {
   "cell_type": "code",
   "execution_count": 361,
   "metadata": {},
   "outputs": [],
   "source": [
    "run(input_files[0])"
   ]
  },
  {
   "cell_type": "code",
   "execution_count": 362,
   "metadata": {},
   "outputs": [],
   "source": [
    "run(input_files[1])"
   ]
  },
  {
   "cell_type": "code",
   "execution_count": 363,
   "metadata": {},
   "outputs": [],
   "source": [
    "run(input_files[2])"
   ]
  },
  {
   "cell_type": "code",
   "execution_count": null,
   "metadata": {},
   "outputs": [],
   "source": [
    "run(input_files[3])"
   ]
  }
 ],
 "metadata": {
  "kernelspec": {
   "display_name": "Python 3",
   "language": "python",
   "name": "python3"
  },
  "language_info": {
   "codemirror_mode": {
    "name": "ipython",
    "version": 3
   },
   "file_extension": ".py",
   "mimetype": "text/x-python",
   "name": "python",
   "nbconvert_exporter": "python",
   "pygments_lexer": "ipython3",
   "version": "3.7.1"
  }
 },
 "nbformat": 4,
 "nbformat_minor": 2
}
