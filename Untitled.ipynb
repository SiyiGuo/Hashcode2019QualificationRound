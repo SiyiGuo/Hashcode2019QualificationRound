{
 "cells": [
  {
   "cell_type": "code",
   "execution_count": 220,
   "metadata": {},
   "outputs": [],
   "source": [
    "import matplotlib.pyplot as plt\n",
    "import numpy as np\n",
    "import os\n",
    "%matplotlib inline"
   ]
  },
  {
   "cell_type": "code",
   "execution_count": 221,
   "metadata": {},
   "outputs": [],
   "source": [
    "class Photo(object):\n",
    "    def __init__(self, orientation, tags, index):\n",
    "        self.orientation = orientation\n",
    "        self.tags = tags\n",
    "        self.index = index"
   ]
  },
  {
   "cell_type": "code",
   "execution_count": 222,
   "metadata": {},
   "outputs": [],
   "source": [
    "\"\"\"\n",
    "eg: a_example.in\n",
    "\"\"\"\n",
    "def read_input(filename):\n",
    "    # all input dataset are put under the input_data folder\n",
    "    lines = open(os.path.join(\"input_data\",filename)).readlines()\n",
    "    num_input = int(lines[0].strip())\n",
    "    photos = []\n",
    "    for index, line in enumerate(lines[1:]):\n",
    "        line = line.strip().split(\" \")\n",
    "        orientation = line[0]\n",
    "        tags = set(line[2:])\n",
    "        print(\"tags\", tags, type(tags))\n",
    "        photos.append(Photo(orientation, tags, index))\n",
    "    \n",
    "    return photos\n",
    "        \n",
    "        "
   ]
  },
  {
   "cell_type": "code",
   "execution_count": 223,
   "metadata": {},
   "outputs": [],
   "source": [
    "def write_output(output_file_name, result):\n",
    "    with open(os.path.join(\"output_data\", output_file_name), 'w') as f:\n",
    "        for line in result:\n",
    "            f.write(str(line).strip(\"[]\").replace(\",\", \"\")+\"\\n\")"
   ]
  },
  {
   "cell_type": "code",
   "execution_count": 224,
   "metadata": {},
   "outputs": [],
   "source": [
    "def run(filename):\n",
    "    photos = read_input(filename)\n",
    "    solution = Solution(photos)\n",
    "    result = solution.get_result()\n",
    "    write_output(\"output\"+filename, result)"
   ]
  },
  {
   "cell_type": "markdown",
   "metadata": {},
   "source": [
    "#Write the solution function here"
   ]
  },
  {
   "cell_type": "code",
   "execution_count": 228,
   "metadata": {},
   "outputs": [],
   "source": [
    "class Solution(object):\n",
    "    def __init__(self, photos):\n",
    "        self.photos = photos\n",
    "    def get_2_photo_score(self, p1, p2):\n",
    "        print(p1.tags, type(p1.tags))\n",
    "        intersect = p1.tags.intersection(p2.tags)\n",
    "        print(intersect, len(intersect))\n",
    "    def get_result(self):\n",
    "        self.get_2_photo_score(self.photos[0], self.photos[1])\n",
    "        return []"
   ]
  },
  {
   "cell_type": "markdown",
   "metadata": {},
   "source": [
    "#Solution Finish"
   ]
  },
  {
   "cell_type": "code",
   "execution_count": 226,
   "metadata": {},
   "outputs": [
    {
     "name": "stdout",
     "output_type": "stream",
     "text": [
      "['a_example.txt', 'b_lovely_landscapes.txt', 'c_memorable_moments.txt', 'd_pet_pictures.txt', 'e_shiny_selfies.txt']\n"
     ]
    }
   ],
   "source": [
    "input_files = os.listdir(\"input_data\")\n",
    "print(input_files)"
   ]
  },
  {
   "cell_type": "code",
   "execution_count": 229,
   "metadata": {},
   "outputs": [
    {
     "name": "stdout",
     "output_type": "stream",
     "text": [
      "tags {'beach', 'cat', 'sun'} <class 'set'>\n",
      "tags {'smile', 'selfie'} <class 'set'>\n",
      "tags {'garden', 'selfie'} <class 'set'>\n",
      "tags {'cat', 'garden'} <class 'set'>\n",
      "{'beach', 'cat', 'sun'} <class 'set'>\n",
      "set() 0\n"
     ]
    }
   ],
   "source": [
    "run(\"a_example.txt\")"
   ]
  },
  {
   "cell_type": "code",
   "execution_count": null,
   "metadata": {},
   "outputs": [],
   "source": []
  },
  {
   "cell_type": "code",
   "execution_count": null,
   "metadata": {},
   "outputs": [],
   "source": []
  }
 ],
 "metadata": {
  "kernelspec": {
   "display_name": "Python 3",
   "language": "python",
   "name": "python3"
  },
  "language_info": {
   "codemirror_mode": {
    "name": "ipython",
    "version": 3
   },
   "file_extension": ".py",
   "mimetype": "text/x-python",
   "name": "python",
   "nbconvert_exporter": "python",
   "pygments_lexer": "ipython3",
   "version": "3.7.1"
  }
 },
 "nbformat": 4,
 "nbformat_minor": 2
}
