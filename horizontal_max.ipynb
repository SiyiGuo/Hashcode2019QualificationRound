{
 "cells": [
  {
   "cell_type": "code",
   "execution_count": 6,
   "metadata": {},
   "outputs": [],
   "source": [
    "import os"
   ]
  },
  {
   "cell_type": "code",
   "execution_count": 2,
   "metadata": {},
   "outputs": [],
   "source": [
    "def read_input(filename):\n",
    "    with open(os.path.join(\"input_data\",filename)) as f:\n",
    "        lines = f.readlines()\n",
    "        hors = []\n",
    "        vers = []\n",
    "        for index, line in enumerate(lines[1:]):\n",
    "            line = line.strip().split(\" \")\n",
    "            (hors if line[0] == \"H\" else vers).append((index, set(line[2:])))\n",
    "    return hors, vers"
   ]
  },
  {
   "cell_type": "code",
   "execution_count": 3,
   "metadata": {},
   "outputs": [],
   "source": [
    "def write_output(output_file_name, result):\n",
    "    with open(os.path.join(\"output_data\", output_file_name), 'w') as f:\n",
    "        for line in result:\n",
    "            f.write(f\"{line.strip([]).replace(',', '')}\\n\")"
   ]
  },
  {
   "cell_type": "code",
   "execution_count": null,
   "metadata": {},
   "outputs": [],
   "source": [
    "def run(filename):\n",
    "    hors, vers = read_input(filename)\n",
    "\n",
    "    indices = set(range(1, len(hors)))\n",
    "    rsum, rscores, result = 0, [], [hors[0]]\n",
    "    max_score = 0\n",
    "    max_ind = 1\n",
    "    _, tags1 = result[0]\n",
    "    for i, p2 in enumerate(hors[1:]):\n",
    "        _, tags2 = p2\n",
    "        c = tags1.intersection(tags2)\n",
    "        s = min(len(c), len(tags1 - c), len(tags2 - c))\n",
    "        if s > max_score:\n",
    "            max_score = s\n",
    "            max_ind = i + 1\n",
    "    rsum = max_score\n",
    "    rscores.append(max_score)\n",
    "    indices.remove(max_ind)\n",
    "    result.append(hors[max_ind])\n",
    "\n",
    "    while indices:\n",
    "        max_i = 1\n",
    "        max_ind = max_score = 0\n",
    "        lr = len(result)\n",
    "        for i in indices:\n",
    "            _, tags1 = hors[i]\n",
    "            _, tags2 = result[0]\n",
    "            c = tags1.intersection(tags2)\n",
    "            rs = s2 = min(len(c), len(tags1 - c), len(tags2 - c))\n",
    "            if s2 > max_score:\n",
    "                max_i = i\n",
    "\n",
    "            tags1 = tags2\n",
    "            s1 = s2\n",
    "            for ind, p in enumerate(result[1:]):\n",
    "                _, tags2 = p\n",
    "                c = tags1.intersection(tags2)\n",
    "                s2 = min(len(c), len(tags1 - c), len(tags2 - c))\n",
    "                tsum = rsum - rscores[ind] + s1 + s2\n",
    "                if tsum > max_score:\n",
    "                    max_score = tsum\n",
    "                    max_ind = ind + 1\n",
    "                    max_i = i\n",
    "                    ls = s1\n",
    "                    rs = s2\n",
    "                tags1 = tags2\n",
    "                s1 = s2\n",
    "\n",
    "            tsum = rsum + s2\n",
    "            if tsum > max_score:\n",
    "                max_score = tsum\n",
    "                max_ind = lr\n",
    "                max_i = i\n",
    "                ls = s2\n",
    "        result.insert(max_ind, hors[max_i])\n",
    "        if max_ind == 0:\n",
    "            rscores.insert(0, rs)\n",
    "        elif max_ind == lr:\n",
    "            rscores.append(ls)\n",
    "        else:\n",
    "            rscores.insert(ind - 1, ls)\n",
    "            rscores[ind] = rs\n",
    "        rsum = max_score\n",
    "        indices.remove(max_i)\n",
    "\n",
    "    return result\n",
    "\n",
    "print([i[0] for i in run(\"b_lovely_landscapes.txt\")])"
   ]
  },
  {
   "cell_type": "code",
   "execution_count": null,
   "metadata": {},
   "outputs": [],
   "source": []
  }
 ],
 "metadata": {
  "kernelspec": {
   "display_name": "Python 3",
   "language": "python",
   "name": "python3"
  },
  "language_info": {
   "codemirror_mode": {
    "name": "ipython",
    "version": 3
   },
   "file_extension": ".py",
   "mimetype": "text/x-python",
   "name": "python",
   "nbconvert_exporter": "python",
   "pygments_lexer": "ipython3",
   "version": "3.6.6"
  }
 },
 "nbformat": 4,
 "nbformat_minor": 2
}
